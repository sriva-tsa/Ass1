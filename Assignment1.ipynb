{
 "cells": [
  {
   "cell_type": "markdown",
   "id": "04b45775",
   "metadata": {},
   "source": [
    "## 1.\tImport the necessary package to\n",
    "a.\tSet the current working directory\n",
    "b.\tChange the working directory\n"
   ]
  },
  {
   "cell_type": "code",
   "execution_count": 3,
   "id": "1505922f",
   "metadata": {},
   "outputs": [
    {
     "data": {
      "text/plain": [
       "'F:\\\\python'"
      ]
     },
     "execution_count": 3,
     "metadata": {},
     "output_type": "execute_result"
    }
   ],
   "source": [
    "import os\n",
    "os.getcwd()"
   ]
  },
  {
   "cell_type": "code",
   "execution_count": 6,
   "id": "0c436e2c",
   "metadata": {},
   "outputs": [],
   "source": [
    "os.chdir('F:/folder')"
   ]
  },
  {
   "cell_type": "code",
   "execution_count": 10,
   "id": "df4966bd",
   "metadata": {},
   "outputs": [
    {
     "data": {
      "text/plain": [
       "'F:\\\\folder'"
      ]
     },
     "execution_count": 10,
     "metadata": {},
     "output_type": "execute_result"
    }
   ],
   "source": [
    "os.getcwd()"
   ]
  },
  {
   "cell_type": "markdown",
   "id": "25d37301",
   "metadata": {},
   "source": [
    "## 2.\tCreate the string, int and float variable and delete them all in the next cell"
   ]
  },
  {
   "cell_type": "code",
   "execution_count": 10,
   "id": "edcb7fb1",
   "metadata": {},
   "outputs": [
    {
     "name": "stdout",
     "output_type": "stream",
     "text": [
      "2 2.5\n"
     ]
    }
   ],
   "source": [
    "k = 2\n",
    "l = 2.5;\n",
    "print(k,l)"
   ]
  },
  {
   "cell_type": "code",
   "execution_count": 11,
   "id": "968c56a0",
   "metadata": {},
   "outputs": [],
   "source": [
    "del k,l"
   ]
  },
  {
   "cell_type": "markdown",
   "id": "1f8c5d36",
   "metadata": {},
   "source": [
    "# 3.\tWhat’s the result of assigning a value to a ‘keyword’?\n",
    "a.\tPlease highlight the error\n"
   ]
  },
  {
   "cell_type": "code",
   "execution_count": 23,
   "id": "59268bfd",
   "metadata": {},
   "outputs": [
    {
     "ename": "SyntaxError",
     "evalue": "invalid syntax (Temp/ipykernel_7988/763381343.py, line 1)",
     "output_type": "error",
     "traceback": [
      "\u001b[1;36m  File \u001b[1;32m\"C:\\Users\\Srivatsa\\AppData\\Local\\Temp/ipykernel_7988/763381343.py\"\u001b[1;36m, line \u001b[1;32m1\u001b[0m\n\u001b[1;33m    import = 12    ## Error = SyntaxError: invalid syntax\u001b[0m\n\u001b[1;37m           ^\u001b[0m\n\u001b[1;31mSyntaxError\u001b[0m\u001b[1;31m:\u001b[0m invalid syntax\n"
     ]
    }
   ],
   "source": [
    "import = 12    ## Error = SyntaxError: invalid syntax"
   ]
  },
  {
   "cell_type": "markdown",
   "id": "e58f06c2",
   "metadata": {},
   "source": [
    "## 4.\tHow to write a multi-line statement and assign it to a variable (Note: Without using a backslash “\\” at the end of each line)"
   ]
  },
  {
   "cell_type": "code",
   "execution_count": 41,
   "id": "42fee7a8",
   "metadata": {},
   "outputs": [
    {
     "name": "stdout",
     "output_type": "stream",
     "text": [
      "This is a multiline statement\n",
      "statement to prit multiple comments\n",
      "also to view them\n"
     ]
    }
   ],
   "source": [
    "j = \"\"\"This is a multiline statement\n",
    "statement to prit multiple comments\n",
    "also to view them\"\"\"\n",
    "print(j)"
   ]
  },
  {
   "cell_type": "markdown",
   "id": "8037bca8",
   "metadata": {},
   "source": [
    "## 5.\tPrint the list of numbers from 100 to 999 with an interval (step size) of 8 between the numbers"
   ]
  },
  {
   "cell_type": "code",
   "execution_count": 28,
   "id": "4a45e746",
   "metadata": {},
   "outputs": [
    {
     "ename": "SyntaxError",
     "evalue": "invalid syntax (Temp/ipykernel_23512/2022854411.py, line 1)",
     "output_type": "error",
     "traceback": [
      "\u001b[1;36m  File \u001b[1;32m\"C:\\Users\\Srivatsa\\AppData\\Local\\Temp/ipykernel_23512/2022854411.py\"\u001b[1;36m, line \u001b[1;32m1\u001b[0m\n\u001b[1;33m    [i**2 for i in range(1,10)]:\u001b[0m\n\u001b[1;37m                                ^\u001b[0m\n\u001b[1;31mSyntaxError\u001b[0m\u001b[1;31m:\u001b[0m invalid syntax\n"
     ]
    }
   ],
   "source": [
    "[i**2 for i in range(1,10)]:\n",
    "    print(i)"
   ]
  },
  {
   "cell_type": "markdown",
   "id": "463d2b11",
   "metadata": {},
   "source": [
    "##  6.\tWrite a “for” loop to print out the ‘n’ values and break out of the statement if the value is ‘n/2’"
   ]
  },
  {
   "cell_type": "code",
   "execution_count": 133,
   "id": "3dfc0a3b",
   "metadata": {},
   "outputs": [
    {
     "name": "stdout",
     "output_type": "stream",
     "text": [
      "1\n"
     ]
    }
   ],
   "source": [
    "for n in range(1,10):\n",
    "    print(n)\n",
    "    if n == n%2:\n",
    "        break"
   ]
  },
  {
   "cell_type": "markdown",
   "id": "c625940e",
   "metadata": {},
   "source": [
    "## 7.\tWrite a simple function and call the docstring from outside the function"
   ]
  },
  {
   "cell_type": "code",
   "execution_count": 32,
   "id": "ccc02eec",
   "metadata": {},
   "outputs": [],
   "source": [
    "def simp():\n",
    "    \"\"\"This is doc string\"\"\"\n",
    "    print('hello world')"
   ]
  },
  {
   "cell_type": "code",
   "execution_count": 35,
   "id": "dcad7fe9",
   "metadata": {},
   "outputs": [
    {
     "name": "stdout",
     "output_type": "stream",
     "text": [
      "hello world\n",
      "This is doc string\n"
     ]
    }
   ],
   "source": [
    "simp()\n",
    "print(simp.__doc__)"
   ]
  },
  {
   "cell_type": "markdown",
   "id": "468ddaa0",
   "metadata": {},
   "source": [
    "## 8.\tCreate a user-defined package in ‘site-packages’ with below 3 variables a, b and c. Import these variables and write a function to calculate the area of triangle for below 3 sides (a, b, c). Calculate the semi-perimeter (s) first, to calculate the area of triangle (area) at last\n",
    "<<Formula to calculate semi-perimeter: s = (a+b+c )/2\n",
    "<<Formula to calculatearea = (s*(s-a)*(s-b)*(s-c)) ** 0.5>>\n",
    "a.\t15\n",
    "b.\t51\n",
    "c.\t17\n"
   ]
  },
  {
   "cell_type": "code",
   "execution_count": 52,
   "id": "419f8f7f",
   "metadata": {},
   "outputs": [],
   "source": [
    "from alter import meter"
   ]
  },
  {
   "cell_type": "code",
   "execution_count": 61,
   "id": "dff8412c",
   "metadata": {},
   "outputs": [
    {
     "name": "stdout",
     "output_type": "stream",
     "text": [
      "41.5\n"
     ]
    }
   ],
   "source": [
    "x = meter.a\n",
    "y = meter.b\n",
    "z = meter.c\n",
    "s = (x+y+z)/2\n",
    "print(s)"
   ]
  },
  {
   "cell_type": "code",
   "execution_count": 62,
   "id": "0b1f11a5",
   "metadata": {},
   "outputs": [
    {
     "name": "stdout",
     "output_type": "stream",
     "text": [
      "-127983.40625\n"
     ]
    }
   ],
   "source": [
    "s=41.5;\n",
    "area = (s*(s-x)*(s-y)*(s-z))*0.5\n",
    "print(area)\n"
   ]
  },
  {
   "cell_type": "markdown",
   "id": "fba45f30",
   "metadata": {},
   "source": [
    "## 9.\tWrite a list comprehension to print the odd numbers from 0 to 100"
   ]
  },
  {
   "cell_type": "code",
   "execution_count": 100,
   "id": "09a53112",
   "metadata": {},
   "outputs": [
    {
     "name": "stdout",
     "output_type": "stream",
     "text": [
      "1\n",
      "3\n",
      "5\n",
      "7\n",
      "9\n",
      "11\n",
      "13\n",
      "15\n",
      "17\n",
      "19\n",
      "21\n",
      "23\n",
      "25\n",
      "27\n",
      "29\n",
      "31\n",
      "33\n",
      "35\n",
      "37\n",
      "39\n",
      "41\n",
      "43\n",
      "45\n",
      "47\n",
      "49\n",
      "51\n",
      "53\n",
      "55\n",
      "57\n",
      "59\n",
      "61\n",
      "63\n",
      "65\n",
      "67\n",
      "69\n",
      "71\n",
      "73\n",
      "75\n",
      "77\n",
      "79\n",
      "81\n",
      "83\n",
      "85\n",
      "87\n",
      "89\n",
      "91\n",
      "93\n",
      "95\n",
      "97\n",
      "99\n"
     ]
    }
   ],
   "source": [
    "for i in range(1,100):\n",
    "    if i%2:\n",
    "        print(i)"
   ]
  },
  {
   "cell_type": "markdown",
   "id": "f26f49c8",
   "metadata": {},
   "source": [
    "## 10 Create a variable (ex: name) and store your full name in it. Then write a list comprehension to print your name excluding vowels (a, e, i, o, u)\n",
    "a.\tEx: name = Imran\n",
    "b.\tOutput = [‘m’, ‘r’, ‘n’]\n"
   ]
  },
  {
   "cell_type": "code",
   "execution_count": 5,
   "id": "bcf7e042",
   "metadata": {},
   "outputs": [
    {
     "data": {
      "text/plain": [
       "['s', 'r', 'v', 't', 's']"
      ]
     },
     "execution_count": 5,
     "metadata": {},
     "output_type": "execute_result"
    }
   ],
   "source": [
    "nam = \"srivatsa\"\n",
    "[i for i in nam if i not in ('a', 'e', 'i', 'o', 'u')]"
   ]
  }
 ],
 "metadata": {
  "kernelspec": {
   "display_name": "Python 3 (ipykernel)",
   "language": "python",
   "name": "python3"
  },
  "language_info": {
   "codemirror_mode": {
    "name": "ipython",
    "version": 3
   },
   "file_extension": ".py",
   "mimetype": "text/x-python",
   "name": "python",
   "nbconvert_exporter": "python",
   "pygments_lexer": "ipython3",
   "version": "3.9.7"
  }
 },
 "nbformat": 4,
 "nbformat_minor": 5
}
