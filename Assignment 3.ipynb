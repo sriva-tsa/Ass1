{
 "cells": [
  {
   "cell_type": "markdown",
   "id": "22c807ee",
   "metadata": {},
   "source": [
    "1.\tCreate a file calc.py which has following functions\n",
    "a.\tFunction to find the factorial of a number\n",
    "b.\tFunction to convert degree to Fahrenheit\n",
    "Write a new program in file “maths.py” such that you import functions of the file calc.py to your new program. Use from <module> import <functions> statement to import the functions from the calc module\n"
   ]
  },
  {
   "cell_type": "code",
   "execution_count": null,
   "id": "8ef7c412",
   "metadata": {},
   "outputs": [],
   "source": [
    "#Below code has been saved as calc in \"a\" folder.\n",
    "\n",
    "def fact(x):\n",
    "    if x ==1:\n",
    "        return x\n",
    "    else:\n",
    "        return(x*fact(x-1))\n",
    "\n",
    "def faren(c):\n",
    "    f = (c*9/5)+32\n",
    "    return f\n",
    "    \n"
   ]
  },
  {
   "cell_type": "code",
   "execution_count": 5,
   "id": "082d767f",
   "metadata": {},
   "outputs": [],
   "source": [
    "from a import calc"
   ]
  },
  {
   "cell_type": "code",
   "execution_count": 2,
   "id": "a74f1f2a",
   "metadata": {},
   "outputs": [
    {
     "data": {
      "text/plain": [
       "120"
      ]
     },
     "execution_count": 2,
     "metadata": {},
     "output_type": "execute_result"
    }
   ],
   "source": [
    "calc.fact(5)"
   ]
  },
  {
   "cell_type": "code",
   "execution_count": 4,
   "id": "d7bf0fca",
   "metadata": {},
   "outputs": [
    {
     "data": {
      "text/plain": [
       "176.0"
      ]
     },
     "execution_count": 4,
     "metadata": {},
     "output_type": "execute_result"
    }
   ],
   "source": [
    "calc.faren(80)"
   ]
  },
  {
   "cell_type": "markdown",
   "id": "f8a15605",
   "metadata": {},
   "source": [
    "2.\tImplement a simple generator for Fibonacci series"
   ]
  },
  {
   "cell_type": "code",
   "execution_count": 16,
   "id": "a9b385c9",
   "metadata": {},
   "outputs": [],
   "source": [
    "def fibonocci_generator(n):\n",
    "    a,b=0,1\n",
    "    for i in range(0,n):\n",
    "        yield a\n",
    "        a,b = b,a+b"
   ]
  },
  {
   "cell_type": "code",
   "execution_count": 17,
   "id": "2e31ac6d",
   "metadata": {},
   "outputs": [
    {
     "name": "stdout",
     "output_type": "stream",
     "text": [
      "0\n",
      "1\n",
      "1\n",
      "2\n",
      "3\n",
      "5\n",
      "8\n",
      "13\n",
      "21\n",
      "34\n"
     ]
    }
   ],
   "source": [
    "for i in fibonocci_generator(10):\n",
    "    print(i)\n"
   ]
  },
  {
   "cell_type": "markdown",
   "id": "24472177",
   "metadata": {},
   "source": [
    "3.\tWrite an iterator class to iterate over a sequence of values in the reverse direction"
   ]
  },
  {
   "cell_type": "code",
   "execution_count": 1,
   "id": "0a96ed62",
   "metadata": {},
   "outputs": [],
   "source": [
    "cl = [10,20,30,40]\n",
    "my_iter = reversed(cl)"
   ]
  },
  {
   "cell_type": "code",
   "execution_count": 2,
   "id": "102df4f2",
   "metadata": {},
   "outputs": [
    {
     "name": "stdout",
     "output_type": "stream",
     "text": [
      "40\n",
      "30\n",
      "20\n",
      "10\n"
     ]
    }
   ],
   "source": [
    "for i in range(len(cl)):\n",
    "    print(next(my_iter))"
   ]
  },
  {
   "cell_type": "markdown",
   "id": "cc60db74",
   "metadata": {},
   "source": [
    "4.\tWrite a function “salary” that takes in base pay, HRA and special allowance as arguments and returns the sum of all the 3 salary elements. Then create a decorator function to add an additional element “Tax” (30% of base pay) and assign it back to base pay variable, and return the function (i.e., the final calculation of salary also includes tax)"
   ]
  },
  {
   "cell_type": "code",
   "execution_count": 8,
   "id": "ad0d8954",
   "metadata": {},
   "outputs": [],
   "source": [
    "def dec(fun):\n",
    "    def add(b,h,a):\n",
    "        b = b*30/100\n",
    "        return fun(b,h,a)\n",
    "    return add"
   ]
  },
  {
   "cell_type": "code",
   "execution_count": 9,
   "id": "1a348965",
   "metadata": {},
   "outputs": [],
   "source": [
    "@dec\n",
    "def salary(b,h,a):\n",
    "    print(b+h+a)"
   ]
  },
  {
   "cell_type": "code",
   "execution_count": 10,
   "id": "8aa3ca2d",
   "metadata": {},
   "outputs": [
    {
     "name": "stdout",
     "output_type": "stream",
     "text": [
      "10000.0\n"
     ]
    }
   ],
   "source": [
    "salary(10000,5000,2000)"
   ]
  },
  {
   "cell_type": "markdown",
   "id": "67cea8f8",
   "metadata": {},
   "source": [
    "5.\tWrite 3 examples on possible methods to changing a tuple"
   ]
  },
  {
   "cell_type": "code",
   "execution_count": 55,
   "id": "5f505da8",
   "metadata": {},
   "outputs": [
    {
     "data": {
      "text/plain": [
       "tuple"
      ]
     },
     "execution_count": 55,
     "metadata": {},
     "output_type": "execute_result"
    }
   ],
   "source": [
    "g = (1,2,3,[4,5,6]) #when a tupe contains list\n",
    "type(g)"
   ]
  },
  {
   "cell_type": "code",
   "execution_count": 38,
   "id": "8b7701e7",
   "metadata": {},
   "outputs": [
    {
     "name": "stdout",
     "output_type": "stream",
     "text": [
      "(1, 2, 3, [10, 5, 6])\n"
     ]
    }
   ],
   "source": [
    "g[3][0] = 10\n",
    "print(g)"
   ]
  },
  {
   "cell_type": "code",
   "execution_count": 61,
   "id": "1a415d44",
   "metadata": {},
   "outputs": [
    {
     "name": "stdout",
     "output_type": "stream",
     "text": [
      "{3, 4, 5, 8, 9, 10, 11, 'hi', (2, 3, 4, 5)}\n"
     ]
    }
   ],
   "source": [
    "h = {3,4,5,4,9,8,(2,3,4,5),\"hi\",10,11} #when a tupe contains mixed datatypes\n",
    "print(h)"
   ]
  },
  {
   "cell_type": "code",
   "execution_count": 64,
   "id": "93d109b8",
   "metadata": {},
   "outputs": [
    {
     "name": "stdout",
     "output_type": "stream",
     "text": [
      "{3, 5, 7, 56, 10}\n"
     ]
    }
   ],
   "source": [
    "l = {10,2,3,5,7,56} #when we use discard function\n",
    "l.discard(2)\n",
    "print(l)"
   ]
  }
 ],
 "metadata": {
  "kernelspec": {
   "display_name": "Python 3 (ipykernel)",
   "language": "python",
   "name": "python3"
  },
  "language_info": {
   "codemirror_mode": {
    "name": "ipython",
    "version": 3
   },
   "file_extension": ".py",
   "mimetype": "text/x-python",
   "name": "python",
   "nbconvert_exporter": "python",
   "pygments_lexer": "ipython3",
   "version": "3.9.7"
  }
 },
 "nbformat": 4,
 "nbformat_minor": 5
}
