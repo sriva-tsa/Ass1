{
 "cells": [
  {
   "cell_type": "code",
   "execution_count": 12,
   "id": "1cc188bb",
   "metadata": {},
   "outputs": [],
   "source": [
    "def add():\n",
    "    a=int(input(\"the value of a is\"))\n",
    "    b=int(input(\"the value of b is\"))\n",
    "    return a+b"
   ]
  },
  {
   "cell_type": "code",
   "execution_count": 14,
   "id": "b4fbd2e3",
   "metadata": {},
   "outputs": [
    {
     "name": "stdout",
     "output_type": "stream",
     "text": [
      "the value of a is5\n",
      "the value of b is5\n"
     ]
    },
    {
     "data": {
      "text/plain": [
       "10"
      ]
     },
     "execution_count": 14,
     "metadata": {},
     "output_type": "execute_result"
    }
   ],
   "source": [
    "add()"
   ]
  },
  {
   "cell_type": "markdown",
   "id": "77d2fdef",
   "metadata": {},
   "source": [
    " 2.\tWhat happens if we try to add an int with str and vice versa. Please print out the error"
   ]
  },
  {
   "cell_type": "code",
   "execution_count": 5,
   "id": "9aa1584d",
   "metadata": {},
   "outputs": [
    {
     "ename": "TypeError",
     "evalue": "unsupported operand type(s) for +: 'int' and 'str'",
     "output_type": "error",
     "traceback": [
      "\u001b[1;31m---------------------------------------------------------------------------\u001b[0m",
      "\u001b[1;31mTypeError\u001b[0m                                 Traceback (most recent call last)",
      "\u001b[1;32m~\\AppData\\Local\\Temp/ipykernel_3276/186835129.py\u001b[0m in \u001b[0;36m<module>\u001b[1;34m\u001b[0m\n\u001b[0;32m      1\u001b[0m \u001b[0mint_a\u001b[0m \u001b[1;33m=\u001b[0m \u001b[1;36m10\u001b[0m\u001b[1;33m\u001b[0m\u001b[1;33m\u001b[0m\u001b[0m\n\u001b[0;32m      2\u001b[0m \u001b[0mstring_b\u001b[0m \u001b[1;33m=\u001b[0m \u001b[1;34m\"99\"\u001b[0m\u001b[1;33m\u001b[0m\u001b[1;33m\u001b[0m\u001b[0m\n\u001b[1;32m----> 3\u001b[1;33m \u001b[0mc\u001b[0m \u001b[1;33m=\u001b[0m \u001b[0mint_a\u001b[0m\u001b[1;33m+\u001b[0m\u001b[0mstring_b\u001b[0m\u001b[1;33m\u001b[0m\u001b[1;33m\u001b[0m\u001b[0m\n\u001b[0m\u001b[0;32m      4\u001b[0m \u001b[0mprint\u001b[0m\u001b[1;33m(\u001b[0m\u001b[0mc\u001b[0m\u001b[1;33m)\u001b[0m\u001b[1;33m\u001b[0m\u001b[1;33m\u001b[0m\u001b[0m\n",
      "\u001b[1;31mTypeError\u001b[0m: unsupported operand type(s) for +: 'int' and 'str'"
     ]
    }
   ],
   "source": [
    "int_a = 10\n",
    "string_b = \"99\"\n",
    "c = int_a+string_b\n",
    "print(c)"
   ]
  },
  {
   "cell_type": "markdown",
   "id": "bc5735f7",
   "metadata": {},
   "source": [
    "3.\tCreate a string variable for the word “Data Science” and see if the letter “s” is present in it using membership operators"
   ]
  },
  {
   "cell_type": "code",
   "execution_count": 8,
   "id": "4cf45003",
   "metadata": {},
   "outputs": [
    {
     "name": "stdout",
     "output_type": "stream",
     "text": [
      "True\n"
     ]
    }
   ],
   "source": [
    "x = \"data science\"\n",
    "print(\"s\" in x)"
   ]
  },
  {
   "cell_type": "markdown",
   "id": "11eb9d65",
   "metadata": {},
   "source": [
    "4.\tWrite a function and pass a number list as an argument to the function. And return True if the first and last number of a given list is same. If numbers are different then return False"
   ]
  },
  {
   "cell_type": "code",
   "execution_count": 38,
   "id": "12f5bd29",
   "metadata": {},
   "outputs": [],
   "source": [
    "def fun(a,b):\n",
    "    if a==b:\n",
    "        print(\"true\")\n",
    "    else:\n",
    "        print(\"false\")\n",
    "        \n",
    "    "
   ]
  },
  {
   "cell_type": "code",
   "execution_count": 40,
   "id": "48128c65",
   "metadata": {},
   "outputs": [
    {
     "name": "stdout",
     "output_type": "stream",
     "text": [
      "true\n"
     ]
    }
   ],
   "source": [
    "fun(1,1)"
   ]
  },
  {
   "cell_type": "code",
   "execution_count": 42,
   "id": "d2e4981f",
   "metadata": {},
   "outputs": [
    {
     "name": "stdout",
     "output_type": "stream",
     "text": [
      "false\n"
     ]
    }
   ],
   "source": [
    "fun(1,3)"
   ]
  },
  {
   "cell_type": "markdown",
   "id": "111f1ba7",
   "metadata": {},
   "source": [
    "5.\tIterate the given list of numbers (l1) and print only those numbers which are divisible by 5. (l1 = [10, 20, 33, 46, 55])"
   ]
  },
  {
   "cell_type": "code",
   "execution_count": 37,
   "id": "338b4e53",
   "metadata": {},
   "outputs": [
    {
     "data": {
      "text/plain": [
       "[10, 20, 55]"
      ]
     },
     "execution_count": 37,
     "metadata": {},
     "output_type": "execute_result"
    }
   ],
   "source": [
    "s = [10, 20, 33, 46, 55]\n",
    "[a for a in s if a%5==0]"
   ]
  },
  {
   "cell_type": "markdown",
   "id": "57426cdc",
   "metadata": {},
   "source": [
    "6.\tWrite a program to create function calculation() such that it can accept two variables and calculate addition and subtraction. Also, it must return both addition and subtraction in a single return call.\n",
    "a.\tHint: Separate return values with a comma\n"
   ]
  },
  {
   "cell_type": "code",
   "execution_count": 48,
   "id": "49b19472",
   "metadata": {},
   "outputs": [],
   "source": [
    "def calculation(a,b):\n",
    "    return a+b,a-b\n",
    "    "
   ]
  },
  {
   "cell_type": "code",
   "execution_count": 49,
   "id": "6e84490b",
   "metadata": {},
   "outputs": [
    {
     "data": {
      "text/plain": [
       "(10, 0)"
      ]
     },
     "execution_count": 49,
     "metadata": {},
     "output_type": "execute_result"
    }
   ],
   "source": [
    "calculation(5,5)"
   ]
  },
  {
   "cell_type": "markdown",
   "id": "793f0818",
   "metadata": {},
   "source": [
    "7.\tWrite a program to demonstrate the following Syntax error\n",
    "a.\tSyntaxError: non-default argument follows default argument\n"
   ]
  },
  {
   "cell_type": "code",
   "execution_count": 1,
   "id": "a22d88d3",
   "metadata": {},
   "outputs": [
    {
     "ename": "SyntaxError",
     "evalue": "non-default argument follows default argument (Temp/ipykernel_4336/1152911610.py, line 1)",
     "output_type": "error",
     "traceback": [
      "\u001b[1;36m  File \u001b[1;32m\"C:\\Users\\Srivatsa\\AppData\\Local\\Temp/ipykernel_4336/1152911610.py\"\u001b[1;36m, line \u001b[1;32m1\u001b[0m\n\u001b[1;33m    def rec(arg1=10,arg2):\u001b[0m\n\u001b[1;37m                        ^\u001b[0m\n\u001b[1;31mSyntaxError\u001b[0m\u001b[1;31m:\u001b[0m non-default argument follows default argument\n"
     ]
    }
   ],
   "source": [
    "def rec(arg1=10,arg2):\n",
    "    return arg1+arg2"
   ]
  },
  {
   "cell_type": "markdown",
   "id": "93cb4ff4",
   "metadata": {},
   "source": [
    "8.\tWhat’s recursion? Explain in your own words and write a program to create a recursive function to calculate the sum of numbers from 0 to 10"
   ]
  },
  {
   "cell_type": "code",
   "execution_count": 21,
   "id": "f5ff7e21",
   "metadata": {},
   "outputs": [
    {
     "name": "stdout",
     "output_type": "stream",
     "text": [
      "sum of 10 is 55\n"
     ]
    }
   ],
   "source": [
    "def recursion(a):\n",
    "    if a == 1:\n",
    "        return a\n",
    "    else:\n",
    "        return (a + recursion(a-1))\n",
    "    \n",
    "num = 10\n",
    "print('sum of', num, 'is', recursion(num))"
   ]
  },
  {
   "cell_type": "markdown",
   "id": "0e389b7b",
   "metadata": {},
   "source": [
    "9.\tUse filter and lambda function to calculate square for below numbers only if they are odd number\n",
    "a.\t[12, 11, 53, 22, 21, 77, 87, 88, 98]\n"
   ]
  },
  {
   "cell_type": "code",
   "execution_count": 11,
   "id": "df737ad3",
   "metadata": {},
   "outputs": [
    {
     "name": "stdout",
     "output_type": "stream",
     "text": [
      "[11, 53, 21, 77, 87]\n",
      "sqaure of 11 = 121\n",
      "sqaure of 53 = 2809\n",
      "sqaure of 21 = 441\n",
      "sqaure of 77 = 5929\n",
      "sqaure of 87 = 7569\n"
     ]
    }
   ],
   "source": [
    "b = [12, 11, 53, 22, 21, 77, 87, 88, 98]\n",
    "lis = list(filter(lambda X: X%2 == 1,b))\n",
    "\n",
    "print(lis)\n",
    "\n",
    "for i in lis:\n",
    "    print(\"sqaure of\", i,\"=\",i*i)"
   ]
  },
  {
   "cell_type": "markdown",
   "id": "fcced3fe",
   "metadata": {},
   "source": [
    "10.Write a function (not a lambda function) and use it to demonstrate an example for map function (any logical function of your choice)"
   ]
  },
  {
   "cell_type": "code",
   "execution_count": 20,
   "id": "e97514c7",
   "metadata": {},
   "outputs": [
    {
     "ename": "TypeError",
     "evalue": "unsupported operand type(s) for %: 'list' and 'int'",
     "output_type": "error",
     "traceback": [
      "\u001b[1;31m---------------------------------------------------------------------------\u001b[0m",
      "\u001b[1;31mTypeError\u001b[0m                                 Traceback (most recent call last)",
      "\u001b[1;32m~\\AppData\\Local\\Temp/ipykernel_23136/2917535826.py\u001b[0m in \u001b[0;36m<module>\u001b[1;34m\u001b[0m\n\u001b[0;32m      1\u001b[0m \u001b[0ml\u001b[0m \u001b[1;33m=\u001b[0m \u001b[1;33m[\u001b[0m\u001b[1;36m1\u001b[0m\u001b[1;33m,\u001b[0m\u001b[1;36m2\u001b[0m\u001b[1;33m,\u001b[0m\u001b[1;36m3\u001b[0m\u001b[1;33m,\u001b[0m\u001b[1;36m4\u001b[0m\u001b[1;33m,\u001b[0m\u001b[1;36m5\u001b[0m\u001b[1;33m]\u001b[0m\u001b[1;33m\u001b[0m\u001b[1;33m\u001b[0m\u001b[0m\n\u001b[1;32m----> 2\u001b[1;33m \u001b[0ms\u001b[0m \u001b[1;33m=\u001b[0m\u001b[0mlist\u001b[0m\u001b[1;33m(\u001b[0m\u001b[0mmap\u001b[0m\u001b[1;33m(\u001b[0m\u001b[0ml\u001b[0m\u001b[1;33m%\u001b[0m\u001b[1;36m2\u001b[0m \u001b[1;33m==\u001b[0m\u001b[1;36m0\u001b[0m\u001b[1;33m)\u001b[0m\u001b[1;33m)\u001b[0m\u001b[1;33m\u001b[0m\u001b[1;33m\u001b[0m\u001b[0m\n\u001b[0m\u001b[0;32m      3\u001b[0m \u001b[0mprint\u001b[0m\u001b[1;33m(\u001b[0m\u001b[0ms\u001b[0m\u001b[1;33m)\u001b[0m\u001b[1;33m\u001b[0m\u001b[1;33m\u001b[0m\u001b[0m\n",
      "\u001b[1;31mTypeError\u001b[0m: unsupported operand type(s) for %: 'list' and 'int'"
     ]
    }
   ],
   "source": [
    "l = [1,2,3,4,5]\n",
    "s =list(map(l%2 ==0))\n",
    "print(s)"
   ]
  },
  {
   "cell_type": "code",
   "execution_count": null,
   "id": "3172df4a",
   "metadata": {},
   "outputs": [],
   "source": []
  },
  {
   "cell_type": "code",
   "execution_count": null,
   "id": "689e9a7f",
   "metadata": {},
   "outputs": [],
   "source": []
  }
 ],
 "metadata": {
  "kernelspec": {
   "display_name": "Python 3 (ipykernel)",
   "language": "python",
   "name": "python3"
  },
  "language_info": {
   "codemirror_mode": {
    "name": "ipython",
    "version": 3
   },
   "file_extension": ".py",
   "mimetype": "text/x-python",
   "name": "python",
   "nbconvert_exporter": "python",
   "pygments_lexer": "ipython3",
   "version": "3.9.7"
  }
 },
 "nbformat": 4,
 "nbformat_minor": 5
}
